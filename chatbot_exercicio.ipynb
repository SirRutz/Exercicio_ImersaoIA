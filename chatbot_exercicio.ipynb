{
  "cells": [
    {
      "cell_type": "markdown",
      "metadata": {
        "id": "view-in-github",
        "colab_type": "text"
      },
      "source": [
        "<a href=\"https://colab.research.google.com/github/SirRutz/Exercicio_ImersaoIA/blob/main/chatbot_exercicio.ipynb\" target=\"_parent\"><img src=\"https://colab.research.google.com/assets/colab-badge.svg\" alt=\"Open In Colab\"/></a>"
      ]
    },
    {
      "cell_type": "code",
      "execution_count": null,
      "metadata": {
        "id": "nFQLKQ6hfXch"
      },
      "outputs": [],
      "source": [
        "#Instalando o SDK do Google\n",
        "!pip install -q -U google-generativeai"
      ]
    },
    {
      "cell_type": "code",
      "execution_count": null,
      "metadata": {
        "id": "IthzwfnAfcsi"
      },
      "outputs": [],
      "source": [
        "#Configurações iniciais\n",
        "import google.generativeai as genai\n",
        "\n",
        "GOOGLE_API_KEY=\"API KEY\"\n",
        "genai.configure(api_key=GOOGLE_API_KEY)"
      ]
    },
    {
      "cell_type": "code",
      "execution_count": null,
      "metadata": {
        "colab": {
          "base_uri": "https://localhost:8080/",
          "height": 145
        },
        "id": "iD3ihugymWBt",
        "outputId": "848130ee-6c71-4fef-8461-5e4ba80869c6"
      },
      "outputs": [
        {
          "output_type": "stream",
          "name": "stdout",
          "text": [
            "models/gemini-1.0-pro\n",
            "models/gemini-1.0-pro-001\n",
            "models/gemini-1.0-pro-latest\n",
            "models/gemini-1.0-pro-vision-latest\n",
            "models/gemini-1.5-pro-latest\n",
            "models/gemini-pro\n",
            "models/gemini-pro-vision\n"
          ]
        }
      ],
      "source": [
        "#Listando os modelos disponíveis\n",
        "for m in genai.list_models():\n",
        "  if 'generateContent' in m.supported_generation_methods:\n",
        "    print(m.name)"
      ]
    },
    {
      "cell_type": "code",
      "execution_count": null,
      "metadata": {
        "id": "O1ochaeyDn_o"
      },
      "outputs": [],
      "source": [
        "generation_config = {\n",
        "  \"candidate_count\": 1,\n",
        "  \"temperature\": 1,\n",
        "\n",
        "}"
      ]
    },
    {
      "cell_type": "code",
      "execution_count": null,
      "metadata": {
        "id": "jwBv7DofDofw"
      },
      "outputs": [],
      "source": [
        "safety_settings={\n",
        "    'HATE': 'BLOCK_NONE',\n",
        "    'HARASSMENT': 'BLOCK_NONE',\n",
        "    'SEXUAL' : 'BLOCK_NONE',\n",
        "    'DANGEROUS' : 'BLOCK_NONE'\n",
        "    }"
      ]
    },
    {
      "cell_type": "code",
      "execution_count": null,
      "metadata": {
        "id": "NIiSs1R5mVJE"
      },
      "outputs": [],
      "source": [
        "model = genai.GenerativeModel(model_name='gemini-1.0-pro',\n",
        "                                  generation_config=generation_config,\n",
        "                                  safety_settings=safety_settings,)"
      ]
    },
    {
      "cell_type": "code",
      "execution_count": null,
      "metadata": {
        "colab": {
          "base_uri": "https://localhost:8080/",
          "height": 90
        },
        "id": "vrRjhT2rlrU_",
        "outputId": "5a50706d-1671-4ab8-9ea1-e86816659761"
      },
      "outputs": [
        {
          "output_type": "execute_result",
          "data": {
            "text/plain": [
              "'**Linguagens de Programação Mais Utilizadas**\\n\\n**Linguagens de Propósito Geral:**\\n\\n* Python\\n* Java\\n* JavaScript\\n* C++\\n* C#\\n\\n**Linguagens Web:**\\n\\n* HTML\\n* CSS\\n* JavaScript\\n* React\\n* Angular\\n\\n**Linguagens de Banco de Dados:**\\n\\n* SQL\\n* NoSQL (MongoDB, Cassandra, Redis)\\n\\n**Linguagens de Sistemas:**\\n\\n* C\\n* Rust\\n* Go\\n\\n**Linguagens de Ciência de Dados:**\\n\\n* Python\\n* R\\n* Julia\\n\\n**Linguagens de Aprendizado de Máquina:**\\n\\n* Python\\n* R\\n* TensorFlow\\n* PyTorch\\n\\n**Linguagens de Desenvolvimento Móvel:**\\n\\n* Java (Android)\\n* Swift (iOS)\\n* Kotlin (Android)\\n* React Native (multiplataforma)\\n\\n**Linguagens de Desenvolvimento de Jogos:**\\n\\n* C++\\n* C#\\n* UnrealScript\\n* UnityScript'"
            ],
            "application/vnd.google.colaboratory.intrinsic+json": {
              "type": "string"
            }
          },
          "metadata": {},
          "execution_count": 7
        }
      ],
      "source": [
        "response = model.generate_content(\"Me indique as linguagens mais utilizadas na área da programação\")\n",
        "response.text"
      ]
    },
    {
      "cell_type": "code",
      "execution_count": null,
      "metadata": {
        "colab": {
          "base_uri": "https://localhost:8080/",
          "height": 949
        },
        "id": "KpaQ6hm5f2_J",
        "outputId": "61ab44ef-1b32-4eed-e77a-92786bdbe4bf"
      },
      "outputs": [
        {
          "name": "stdout",
          "output_type": "stream",
          "text": [
            "Esperando prompt: Me indique as áreas mais utilizadas na área da programação\n",
            "Resposta: **Desenvolvimento Web**\n",
            "\n",
            "* Desenvolvimento front-end (HTML, CSS, JavaScript)\n",
            "* Desenvolvimento back-end (Python, Java, PHP)\n",
            "* Desenvolvimento full-stack (combinação de front-end e back-end)\n",
            "\n",
            "**Desenvolvimento de Software**\n",
            "\n",
            "* Desenvolvimento de aplicativos móveis (iOS, Android)\n",
            "* Desenvolvimento de desktop (Windows, macOS, Linux)\n",
            "* Desenvolvimento de jogos (Unity, Unreal Engine)\n",
            "\n",
            "**Inteligência Artificial (IA)**\n",
            "\n",
            "* Aprendizado de máquina (Python, TensorFlow, PyTorch)\n",
            "* Aprendizado profundo (Python, Keras, Theano)\n",
            "* Visão computacional (OpenCV, NumPy)\n",
            "\n",
            "**Ciência de Dados**\n",
            "\n",
            "* Análise de dados (Python, R, SQL)\n",
            "* Mineração de dados (Python, Weka)\n",
            "* Visualização de dados (Tableau, Power BI)\n",
            "\n",
            "**Engenharia de Dados**\n",
            "\n",
            "* Extração, transformação e carregamento de dados (ETL)\n",
            "* Gerenciamento de banco de dados (MySQL, PostgreSQL)\n",
            "* Big data (Hadoop, Spark)\n",
            "\n",
            "**Segurança Cibernética**\n",
            "\n",
            "* Segurança de rede (Firewalls, IDS/IPS)\n",
            "* Segurança de aplicativos (Penetração, análise de vulnerabilidades)\n",
            "* Segurança de dados (Criptografia, gerenciamento de chaves)\n",
            "\n",
            "**DevOps**\n",
            "\n",
            "* Automação de construção e implantação (Jenkins, GitLab)\n",
            "* Gerenciamento de infraestrutura (Terraform, Ansible)\n",
            "* Monitoramento e registro (Prometheus, Grafana)\n",
            "\n",
            "**Outras Áreas**\n",
            "\n",
            "* Computação em nuvem (AWS, Azure, GCP)\n",
            "* Desenvolvimento de blockchain (Ethereum, Bitcoin)\n",
            "* Realidade aumentada e virtual (AR/VR) \n",
            "\n",
            "\n",
            "Esperando prompt: fim\n"
          ]
        }
      ],
      "source": [
        "chat = model.start_chat(history=[])\n",
        "\n",
        "prompt = input('Esperando prompt: ')\n",
        "\n",
        "while prompt != \"fim\":\n",
        "  response = chat.send_message(prompt)\n",
        "  print(f'Resposta: {response.text} \\n\\n')\n",
        "  prompt = input('Esperando prompt: ')"
      ]
    },
    {
      "cell_type": "code",
      "execution_count": null,
      "metadata": {
        "id": "XLAniTTDhHNW"
      },
      "outputs": [],
      "source": [
        "chat"
      ]
    },
    {
      "cell_type": "code",
      "execution_count": null,
      "metadata": {
        "id": "sd8mvW9KghTf"
      },
      "outputs": [],
      "source": [
        "chat.history"
      ]
    },
    {
      "cell_type": "code",
      "execution_count": null,
      "metadata": {
        "id": "dAcbPBocgzeX",
        "outputId": "fafa51d5-abf6-441a-e73b-3678e3b60801",
        "colab": {
          "base_uri": "https://localhost:8080/",
          "height": 772
        }
      },
      "outputs": [
        {
          "output_type": "display_data",
          "data": {
            "text/plain": [
              "<IPython.core.display.Markdown object>"
            ],
            "text/markdown": "> **user**: Me indique as áreas mais utilizadas na área da programação"
          },
          "metadata": {}
        },
        {
          "output_type": "stream",
          "name": "stdout",
          "text": [
            "-------------------------------------------\n"
          ]
        },
        {
          "output_type": "display_data",
          "data": {
            "text/plain": [
              "<IPython.core.display.Markdown object>"
            ],
            "text/markdown": "> **model**: **Desenvolvimento Web**\n> \n> * Desenvolvimento front-end (HTML, CSS, JavaScript)\n> * Desenvolvimento back-end (Python, Java, PHP)\n> * Desenvolvimento full-stack (combinação de front-end e back-end)\n> \n> **Desenvolvimento de Software**\n> \n> * Desenvolvimento de aplicativos móveis (iOS, Android)\n> * Desenvolvimento de desktop (Windows, macOS, Linux)\n> * Desenvolvimento de jogos (Unity, Unreal Engine)\n> \n> **Inteligência Artificial (IA)**\n> \n> * Aprendizado de máquina (Python, TensorFlow, PyTorch)\n> * Aprendizado profundo (Python, Keras, Theano)\n> * Visão computacional (OpenCV, NumPy)\n> \n> **Ciência de Dados**\n> \n> * Análise de dados (Python, R, SQL)\n> * Mineração de dados (Python, Weka)\n> * Visualização de dados (Tableau, Power BI)\n> \n> **Engenharia de Dados**\n> \n> * Extração, transformação e carregamento de dados (ETL)\n> * Gerenciamento de banco de dados (MySQL, PostgreSQL)\n> * Big data (Hadoop, Spark)\n> \n> **Segurança Cibernética**\n> \n> * Segurança de rede (Firewalls, IDS/IPS)\n> * Segurança de aplicativos (Penetração, análise de vulnerabilidades)\n> * Segurança de dados (Criptografia, gerenciamento de chaves)\n> \n> **DevOps**\n> \n> * Automação de construção e implantação (Jenkins, GitLab)\n> * Gerenciamento de infraestrutura (Terraform, Ansible)\n> * Monitoramento e registro (Prometheus, Grafana)\n> \n> **Outras Áreas**\n> \n> * Computação em nuvem (AWS, Azure, GCP)\n> * Desenvolvimento de blockchain (Ethereum, Bitcoin)\n> * Realidade aumentada e virtual (AR/VR)"
          },
          "metadata": {}
        },
        {
          "output_type": "stream",
          "name": "stdout",
          "text": [
            "-------------------------------------------\n"
          ]
        }
      ],
      "source": [
        "#Melhorando a visualização\n",
        "#Código disponível em https://ai.google.dev/tutorials/python_quickstart#import_packages\n",
        "import textwrap\n",
        "from IPython.display import display\n",
        "from IPython.display import Markdown\n",
        "\n",
        "def to_markdown(text):\n",
        "  text = text.replace('•', '  *')\n",
        "  return Markdown(textwrap.indent(text, '> ', predicate=lambda _: True))\n",
        "\n",
        "#Imprimindo o histórico\n",
        "for message in chat.history:\n",
        "  display(to_markdown(f'**{message.role}**: {message.parts[0].text}'))\n",
        "  print('-------------------------------------------')"
      ]
    }
  ],
  "metadata": {
    "colab": {
      "provenance": [],
      "include_colab_link": true
    },
    "kernelspec": {
      "display_name": "Python 3",
      "name": "python3"
    },
    "language_info": {
      "name": "python"
    }
  },
  "nbformat": 4,
  "nbformat_minor": 0
}