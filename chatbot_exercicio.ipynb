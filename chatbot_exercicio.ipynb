{
  "cells": [
    {
      "cell_type": "markdown",
      "metadata": {
        "id": "view-in-github",
        "colab_type": "text"
      },
      "source": [
        "<a href=\"https://colab.research.google.com/github/SirRutz/Exercicio_ImersaoIA/blob/main/chatbot_exercicio.ipynb\" target=\"_parent\"><img src=\"https://colab.research.google.com/assets/colab-badge.svg\" alt=\"Open In Colab\"/></a>"
      ]
    },
    {
      "cell_type": "code",
      "execution_count": 1,
      "metadata": {
        "id": "nFQLKQ6hfXch"
      },
      "outputs": [],
      "source": [
        "#Instalando o SDK do Google\n",
        "!pip install -q -U google-generativeai"
      ]
    },
    {
      "cell_type": "code",
      "execution_count": 12,
      "metadata": {
        "id": "IthzwfnAfcsi"
      },
      "outputs": [],
      "source": [
        "#Configurações iniciais\n",
        "import google.generativeai as genai\n",
        "\n",
        "GOOGLE_API_KEY=\"API_KEY\"\n",
        "genai.configure(api_key=GOOGLE_API_KEY)"
      ]
    },
    {
      "cell_type": "code",
      "execution_count": 5,
      "metadata": {
        "colab": {
          "base_uri": "https://localhost:8080/",
          "height": 145
        },
        "id": "iD3ihugymWBt",
        "outputId": "86def2d6-1698-4717-ad38-a19344dd6adf"
      },
      "outputs": [
        {
          "output_type": "stream",
          "name": "stdout",
          "text": [
            "models/gemini-1.0-pro\n",
            "models/gemini-1.0-pro-001\n",
            "models/gemini-1.0-pro-latest\n",
            "models/gemini-1.0-pro-vision-latest\n",
            "models/gemini-1.5-pro-latest\n",
            "models/gemini-pro\n",
            "models/gemini-pro-vision\n"
          ]
        }
      ],
      "source": [
        "#Listando os modelos disponíveis\n",
        "for m in genai.list_models():\n",
        "  if 'generateContent' in m.supported_generation_methods:\n",
        "    print(m.name)"
      ]
    },
    {
      "cell_type": "code",
      "execution_count": 6,
      "metadata": {
        "id": "O1ochaeyDn_o"
      },
      "outputs": [],
      "source": [
        "generation_config = {\n",
        "  \"candidate_count\": 1,\n",
        "  \"temperature\": 1,\n",
        "\n",
        "}"
      ]
    },
    {
      "cell_type": "code",
      "execution_count": 7,
      "metadata": {
        "id": "jwBv7DofDofw"
      },
      "outputs": [],
      "source": [
        "safety_settings={\n",
        "    'HATE': 'BLOCK_NONE',\n",
        "    'HARASSMENT': 'BLOCK_NONE',\n",
        "    'SEXUAL' : 'BLOCK_NONE',\n",
        "    'DANGEROUS' : 'BLOCK_NONE'\n",
        "    }"
      ]
    },
    {
      "cell_type": "code",
      "execution_count": 8,
      "metadata": {
        "id": "NIiSs1R5mVJE"
      },
      "outputs": [],
      "source": [
        "model = genai.GenerativeModel(model_name='gemini-1.0-pro',\n",
        "                                  generation_config=generation_config,\n",
        "                                  safety_settings=safety_settings,)"
      ]
    },
    {
      "cell_type": "code",
      "execution_count": 9,
      "metadata": {
        "colab": {
          "base_uri": "https://localhost:8080/",
          "height": 127
        },
        "id": "vrRjhT2rlrU_",
        "outputId": "2bbc7986-990b-4873-b52a-9ca3173ce09d"
      },
      "outputs": [
        {
          "output_type": "execute_result",
          "data": {
            "text/plain": [
              "'**Linguagens mais utilizadas na programação em 2023:**\\n\\n**1. Python**\\n* Linguagem versátil usada em vários domínios, incluindo ciência de dados, aprendizado de máquina e desenvolvimento web.\\n\\n**2. C**\\n* Linguagem de baixo nível amplamente utilizada em sistemas operacionais, sistemas embarcados e programação de alto desempenho.\\n\\n**3. Java**\\n* Linguagem orientada a objetos robusta e confiável usada em aplicativos empresariais, aplicativos móveis e desenvolvimento web.\\n\\n**4. JavaScript**\\n* Linguagem de scripting usada principalmente para criar sites e aplicativos web interativos.\\n\\n**5. C++**\\n* Linguagem de alto desempenho que oferece controle de baixo nível sobre gerenciamento de memória e recursos.\\n\\n**6. R**\\n* Linguagem especializada para análise estatística e ciência de dados.\\n\\n**7. C#**\\n* Linguagem orientada a objetos desenvolvida pela Microsoft para criar aplicativos do Windows, jogos e aplicativos móveis.\\n\\n**8. Go**\\n* Linguagem moderna com foco em concorrência e desempenho, usada no desenvolvimento de servidores, ferramentas DevOps e pipelines de CI/CD.\\n\\n**9. SQL**\\n* Linguagem de consulta estruturada usada para interagir com bancos de dados relacionais.\\n\\n**10. Swift**\\n* Linguagem de programação desenvolvida pela Apple para criar aplicativos iOS, macOS, watchOS e tvOS.'"
            ],
            "application/vnd.google.colaboratory.intrinsic+json": {
              "type": "string"
            }
          },
          "metadata": {},
          "execution_count": 9
        }
      ],
      "source": [
        "response = model.generate_content(\"Me indique as linguagens mais utilizadas na área da programação\")\n",
        "response.text"
      ]
    },
    {
      "cell_type": "code",
      "execution_count": 10,
      "metadata": {
        "colab": {
          "base_uri": "https://localhost:8080/",
          "height": 274
        },
        "id": "KpaQ6hm5f2_J",
        "outputId": "8f0261dc-0695-4f84-eeb1-cc3ff1c65f8a"
      },
      "outputs": [
        {
          "name": "stdout",
          "output_type": "stream",
          "text": [
            "Esperando prompt: Explique para mim, como se fosse um adolescente em uma conversa informal, as linguagens mais utilizadas na área da programação\n",
            "Resposta: Imagina, mano, a programação é feito com linguagens, que são como idiomas diferentes que os computadores entendem. Tem um monte de linguagens diferentes por aí, mas as mais iradas são:\n",
            "\n",
            "* **Python:** É a linguagem mais popular atualmente, tipo o inglês do mundo da programação. Ela é fácil de aprender, versátil e usada em tudo, desde IA até automação.\n",
            "* **JavaScript:** Essa linguagem é a base da maioria dos sites e aplicativos da internet. É ela que faz as coisas acontecerem quando tu clica em botões e usa formulários.\n",
            "* **C++:** É uma das linguagens mais antigas e poderosas, usada em jogos, sistemas operacionais e até mesmo na Estação Espacial Internacional. Mas é meio difícil de aprender, então é melhor deixar pra depois.\n",
            "* **Java:** É outra linguagem popular usada em uma ampla variedade de coisas, do Android até back-ends de sites. É conhecida por ser orientada a objetos e confiável.\n",
            "* **SQL:** Essa linguagem é usada para lidar com bancos de dados. Ela permite que tu armazene, recupere e manipule dados em sistemas como os que usam bancos e lojas online.\n",
            "\n",
            "Claro, tem um monte de outras linguagens também, mas essas são as principais que tu vai querer dominar se quiser entrar no mundo da programação. \n",
            "\n",
            "\n",
            "Esperando prompt: fim\n"
          ]
        }
      ],
      "source": [
        "chat = model.start_chat(history=[])\n",
        "\n",
        "prompt = input('Esperando prompt: ')\n",
        "\n",
        "while prompt != \"fim\":\n",
        "  response = chat.send_message(prompt)\n",
        "  print(f'Resposta: {response.text} \\n\\n')\n",
        "  prompt = input('Esperando prompt: ')"
      ]
    },
    {
      "cell_type": "code",
      "execution_count": null,
      "metadata": {
        "id": "XLAniTTDhHNW"
      },
      "outputs": [],
      "source": [
        "chat"
      ]
    },
    {
      "cell_type": "code",
      "execution_count": null,
      "metadata": {
        "id": "sd8mvW9KghTf"
      },
      "outputs": [],
      "source": [
        "chat.history"
      ]
    },
    {
      "cell_type": "code",
      "execution_count": 11,
      "metadata": {
        "id": "dAcbPBocgzeX",
        "outputId": "a9bdf5d0-322c-4cc5-c4a1-9659720c7c7a",
        "colab": {
          "base_uri": "https://localhost:8080/",
          "height": 382
        }
      },
      "outputs": [
        {
          "output_type": "display_data",
          "data": {
            "text/plain": [
              "<IPython.core.display.Markdown object>"
            ],
            "text/markdown": "> **user**: Explique para mim, como se fosse um adolescente em uma conversa informal, as linguagens mais utilizadas na área da programação"
          },
          "metadata": {}
        },
        {
          "output_type": "stream",
          "name": "stdout",
          "text": [
            "-------------------------------------------\n"
          ]
        },
        {
          "output_type": "display_data",
          "data": {
            "text/plain": [
              "<IPython.core.display.Markdown object>"
            ],
            "text/markdown": "> **model**: Imagina, mano, a programação é feito com linguagens, que são como idiomas diferentes que os computadores entendem. Tem um monte de linguagens diferentes por aí, mas as mais iradas são:\n> \n> * **Python:** É a linguagem mais popular atualmente, tipo o inglês do mundo da programação. Ela é fácil de aprender, versátil e usada em tudo, desde IA até automação.\n> * **JavaScript:** Essa linguagem é a base da maioria dos sites e aplicativos da internet. É ela que faz as coisas acontecerem quando tu clica em botões e usa formulários.\n> * **C++:** É uma das linguagens mais antigas e poderosas, usada em jogos, sistemas operacionais e até mesmo na Estação Espacial Internacional. Mas é meio difícil de aprender, então é melhor deixar pra depois.\n> * **Java:** É outra linguagem popular usada em uma ampla variedade de coisas, do Android até back-ends de sites. É conhecida por ser orientada a objetos e confiável.\n> * **SQL:** Essa linguagem é usada para lidar com bancos de dados. Ela permite que tu armazene, recupere e manipule dados em sistemas como os que usam bancos e lojas online.\n> \n> Claro, tem um monte de outras linguagens também, mas essas são as principais que tu vai querer dominar se quiser entrar no mundo da programação."
          },
          "metadata": {}
        },
        {
          "output_type": "stream",
          "name": "stdout",
          "text": [
            "-------------------------------------------\n"
          ]
        }
      ],
      "source": [
        "#Melhorando a visualização\n",
        "#Código disponível em https://ai.google.dev/tutorials/python_quickstart#import_packages\n",
        "import textwrap\n",
        "from IPython.display import display\n",
        "from IPython.display import Markdown\n",
        "\n",
        "def to_markdown(text):\n",
        "  text = text.replace('•', '  *')\n",
        "  return Markdown(textwrap.indent(text, '> ', predicate=lambda _: True))\n",
        "\n",
        "#Imprimindo o histórico\n",
        "for message in chat.history:\n",
        "  display(to_markdown(f'**{message.role}**: {message.parts[0].text}'))\n",
        "  print('-------------------------------------------')"
      ]
    }
  ],
  "metadata": {
    "colab": {
      "provenance": [],
      "include_colab_link": true
    },
    "kernelspec": {
      "display_name": "Python 3",
      "name": "python3"
    },
    "language_info": {
      "name": "python"
    }
  },
  "nbformat": 4,
  "nbformat_minor": 0
}